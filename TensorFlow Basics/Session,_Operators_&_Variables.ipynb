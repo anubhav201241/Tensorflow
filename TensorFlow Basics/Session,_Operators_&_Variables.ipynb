{
  "nbformat": 4,
  "nbformat_minor": 0,
  "metadata": {
    "colab": {
      "name": "Session, Operators & Variables.ipynb",
      "provenance": []
    },
    "kernelspec": {
      "name": "python3",
      "display_name": "Python 3"
    },
    "language_info": {
      "name": "python"
    }
  },
  "cells": [
    {
      "cell_type": "markdown",
      "metadata": {
        "id": "sQpb4W1IDckY"
      },
      "source": [
        "# **Tensorflow Session**"
      ]
    },
    {
      "cell_type": "markdown",
      "metadata": {
        "id": "tC5BBvFjkfHs"
      },
      "source": [
        "#Importing Libraries "
      ]
    },
    {
      "cell_type": "code",
      "metadata": {
        "colab": {
          "base_uri": "https://localhost:8080/"
        },
        "id": "P34uEk_tLluF",
        "outputId": "f26eb78f-dfc0-4971-c3a5-7c9eb0cef08d"
      },
      "source": [
        "import tensorflow.compat.v1 as tf\n",
        "tf.disable_v2_behavior()"
      ],
      "execution_count": 1,
      "outputs": [
        {
          "output_type": "stream",
          "text": [
            "WARNING:tensorflow:From /usr/local/lib/python3.7/dist-packages/tensorflow/python/compat/v2_compat.py:96: disable_resource_variables (from tensorflow.python.ops.variable_scope) is deprecated and will be removed in a future version.\n",
            "Instructions for updating:\n",
            "non-resource variables are not supported in the long term\n"
          ],
          "name": "stdout"
        }
      ]
    },
    {
      "cell_type": "code",
      "metadata": {
        "id": "sJW6cOSwbU0_"
      },
      "source": [
        "graph = tf.Graph() # Create a dataflow graph"
      ],
      "execution_count": 2,
      "outputs": []
    },
    {
      "cell_type": "code",
      "metadata": {
        "colab": {
          "base_uri": "https://localhost:8080/"
        },
        "id": "0mId9-tijXXc",
        "outputId": "98574ca0-4cbd-476c-8787-07f3a5d9d87c"
      },
      "source": [
        "with graph.as_default() as graph:\n",
        "    a = tf.constant(1)\n",
        "    b = tf.constant(2)\n",
        "    c = a + b\n",
        "    print(a) # Tensor(\"Const:0\", shape=(), dtype=int32)\n",
        "    print(b) # Tensor(\"Const_1:0\", shape=(), dtype=int32)\n",
        "    print(c) # Tensor(\"add:0\", shape=(), dtype=int32)"
      ],
      "execution_count": 3,
      "outputs": [
        {
          "output_type": "stream",
          "text": [
            "Tensor(\"Const:0\", shape=(), dtype=int32)\n",
            "Tensor(\"Const_1:0\", shape=(), dtype=int32)\n",
            "Tensor(\"add:0\", shape=(), dtype=int32)\n"
          ],
          "name": "stdout"
        }
      ]
    },
    {
      "cell_type": "markdown",
      "metadata": {
        "id": "9tYy5U7Kju9k"
      },
      "source": [
        " # Loaded the graph\n",
        "Rrun the graph and the whole graph\n",
        "that is run the tensors or operations in the graph\n",
        "had gain access to lazy and partial evaluation\n",
        "explicitly by asking about a tensor or operation\n",
        "in the graph\n",
        "\n",
        "An tensor is evaluated , it will get back the values\n",
        "if you evaluate an operation, you will get back None\n",
        "if you were using tf.Variable as well here is where you initialise them\n",
        "tf.global_variables_initializer() is an operation\n",
        "but it's not defined as part of the graph\n",
        "instead it represents the initial feed of variable values\n",
        "into the variable operations and tensors of the graph\n",
        "we do not have references to the operations\n",
        "we have to get it from the graph"
      ]
    },
    {
      "cell_type": "code",
      "metadata": {
        "colab": {
          "base_uri": "https://localhost:8080/"
        },
        "id": "h_VYhqanjqK8",
        "outputId": "b8e3eb1e-6e62-47d1-f115-aa67780f7a6a"
      },
      "source": [
        "with tf.Session(graph=graph) as sess:\n",
        "    sess.run(tf.global_variables_initializer())\n",
        "\n",
        "    c_result = sess.run(c)\n",
        "\n",
        "    print(c_result) # 3\n",
        "\n",
        "    add_result = sess.run(sess.graph.get_operation_by_name('add'))\n",
        "\n",
        "    print(add_result)\n",
        "\n",
        "    # you can also get tensors by name if you don't have a reference\n",
        "    b_result = sess.run(sess.graph.get_tensor_by_name('Const_1:0'))\n",
        "\n",
        "    print(b_result) # 2"
      ],
      "execution_count": 4,
      "outputs": [
        {
          "output_type": "stream",
          "text": [
            "3\n",
            "None\n",
            "2\n"
          ],
          "name": "stdout"
        }
      ]
    },
    {
      "cell_type": "markdown",
      "metadata": {
        "id": "2X5_xL5oklOo"
      },
      "source": [
        "Printing \"Hello World\" Program "
      ]
    },
    {
      "cell_type": "code",
      "metadata": {
        "colab": {
          "base_uri": "https://localhost:8080/"
        },
        "id": "VWIif6VUOAqI",
        "outputId": "b4f5f63f-d5d6-4acf-9acf-8f39a094e748"
      },
      "source": [
        "x = tf.placeholder(tf.string)\n",
        "\n",
        "with tf.Session() as sess:\n",
        "    output = sess.run(x, feed_dict={x: 'Hello World'})\n",
        "    print(output)"
      ],
      "execution_count": 5,
      "outputs": [
        {
          "output_type": "stream",
          "text": [
            "Hello World\n"
          ],
          "name": "stdout"
        }
      ]
    },
    {
      "cell_type": "code",
      "metadata": {
        "colab": {
          "base_uri": "https://localhost:8080/"
        },
        "id": "xtAwbwb9bRiE",
        "outputId": "3997c128-dc91-4d68-efc6-7b79fabf6e0a"
      },
      "source": [
        "x = tf.placeholder(tf.string)\n",
        "y = tf.placeholder(tf.int32)\n",
        "z = tf.placeholder(tf.float32)\n",
        "\n",
        "with tf.Session() as sess:\n",
        "    output_x = sess.run(x, feed_dict={x: 'Test String', y: 123, z: 45.67})\n",
        "    output_y = sess.run(y, feed_dict={x: 'Test String', y: 123, z:45.67})\n",
        "    print(output_x)\n",
        "    print(output_y)"
      ],
      "execution_count": 6,
      "outputs": [
        {
          "output_type": "stream",
          "text": [
            "Test String\n",
            "123\n"
          ],
          "name": "stdout"
        }
      ]
    },
    {
      "cell_type": "markdown",
      "metadata": {
        "id": "F9yA-X5eD2dc"
      },
      "source": [
        "# **Tensorflow Operators**"
      ]
    },
    {
      "cell_type": "markdown",
      "metadata": {
        "id": "4flqTgvyD8Hi"
      },
      "source": [
        "## Goal\n",
        "In this section, we're going to getting start with tensorflow Operators. What are tensorflow operators and we will run some of them.\n"
      ]
    },
    {
      "cell_type": "markdown",
      "metadata": {
        "id": "J9T-ZrN6EJAF"
      },
      "source": [
        "## Introduction to Operator\n",
        "Tensorflow prodives certain predefined operators that can be performed on tensors. Tensorflow operator helps us to perform basic operation on tensor easily.\n",
        "___\n",
        "There are sevral types of operations that can be done on tensorflow. Some of them are mentioned below:\n",
        "* Arithmetic operations : add, subtract, multiply,...\n",
        "* Matrix operations : matmul, matrix_inverse, ...\n",
        "* Control flow operations : tuple, group, ...\n",
        "* Logical operations : logical_and, logical_not, ...\n",
        "* Comparision operations: equal, less, not_equal, ...\n",
        "* Debugging operations : is_finite, is_inf,..\n",
        "\n",
        "___\n",
        "[Here](https://www.tensorflow.org/lite/guide/op_select_allowlist) is the list of all the operator in tensorflow. We will perform some of the operator on our tensor A1 and A2.\n",
        "we will start with \n",
        "\n"
      ]
    },
    {
      "cell_type": "markdown",
      "metadata": {
        "id": "RjLaw3wIENaa"
      },
      "source": [
        "## Tensor \n",
        "We will start by importing installed TensorFlow library into your workspace under the alias tf:\n",
        "\n",
        "Note:- You can also install TensorFlow with Conda if you’re working on Windows or it’s best to check [the official installation instructions](https://www.tensorflow.org/install)."
      ]
    },
    {
      "cell_type": "code",
      "metadata": {
        "id": "NN_L_x1aDl2j"
      },
      "source": [
        "import tensorflow as tf"
      ],
      "execution_count": 7,
      "outputs": []
    },
    {
      "cell_type": "markdown",
      "metadata": {
        "id": "2rNLElNSETl6"
      },
      "source": [
        "## Data for learning\n",
        "First we define two variables that are actually constants. Pass an array of four numbers to the constant() function so that we can perform  operator method on this."
      ]
    },
    {
      "cell_type": "code",
      "metadata": {
        "id": "STxm6ecmEQ4R"
      },
      "source": [
        "# Initialize two constants\n",
        "tensor_A1  = tf.constant([1,6,2,8])\n",
        "tensor_A2  = tf.constant([9,4,3,0])"
      ],
      "execution_count": 8,
      "outputs": []
    },
    {
      "cell_type": "markdown",
      "metadata": {
        "id": "Zo-1ct_mEYGQ"
      },
      "source": [
        "### Arithmetic Operations\n",
        "Tensorflow provide several operation to perform basic arithmetic operators to tensor.\n",
        "\n",
        "ex - tf.add, tf.subtract, tf.multiply, tf.divide and ..."
      ]
    },
    {
      "cell_type": "markdown",
      "metadata": {
        "id": "0MjjEuTnEgeR"
      },
      "source": [
        "#### ADD\n",
        "return addition of two tensor."
      ]
    },
    {
      "cell_type": "code",
      "metadata": {
        "id": "bR5Js_9_EawM",
        "outputId": "c29c5c26-22dd-4476-c6ca-347ab8988055",
        "colab": {
          "base_uri": "https://localhost:8080/"
        }
      },
      "source": [
        "tensor_add = tf.add(tensor_A1, tensor_A2)\n",
        "print(tensor_add)  "
      ],
      "execution_count": 9,
      "outputs": [
        {
          "output_type": "stream",
          "text": [
            "Tensor(\"Add:0\", shape=(4,), dtype=int32)\n"
          ],
          "name": "stdout"
        }
      ]
    },
    {
      "cell_type": "markdown",
      "metadata": {
        "id": "PJEByDkqEkOR"
      },
      "source": [
        "#### Multiply\n",
        "this operator return element wise multiplication of two tensor."
      ]
    },
    {
      "cell_type": "code",
      "metadata": {
        "id": "Ha4aRs7dEhs_",
        "outputId": "b5bdd24c-9de7-4ae1-e46e-b575ebce5eee",
        "colab": {
          "base_uri": "https://localhost:8080/"
        }
      },
      "source": [
        "tensor_multiply = tf.multiply(tensor_A1, tensor_A2)\n",
        "print(tensor_multiply)   "
      ],
      "execution_count": 10,
      "outputs": [
        {
          "output_type": "stream",
          "text": [
            "Tensor(\"Mul:0\", shape=(4,), dtype=int32)\n"
          ],
          "name": "stdout"
        }
      ]
    },
    {
      "cell_type": "markdown",
      "metadata": {
        "id": "QzaxEy63EujU"
      },
      "source": [
        "### Matrix operations\n",
        "Tensorflow provide several operation to perform matrices operation to tensor.\n",
        "\n",
        "ex - tf.diag, tf.transpose, tf.matrix_inverse, tf.norm and ..."
      ]
    },
    {
      "cell_type": "markdown",
      "metadata": {
        "id": "gI5GnTEyEsY9"
      },
      "source": [
        "#### Transpose\n",
        "this operator return transpose of a tensor."
      ]
    },
    {
      "cell_type": "code",
      "metadata": {
        "id": "RXiHjZl1EoMI",
        "outputId": "386e1a02-2641-4bf3-cca3-51af3e6472b3",
        "colab": {
          "base_uri": "https://localhost:8080/"
        }
      },
      "source": [
        "tensor_transpose = tf.transpose(tensor_A1)\n",
        "print(tensor_transpose)  "
      ],
      "execution_count": 11,
      "outputs": [
        {
          "output_type": "stream",
          "text": [
            "Tensor(\"transpose:0\", shape=(4,), dtype=int32)\n"
          ],
          "name": "stdout"
        }
      ]
    },
    {
      "cell_type": "markdown",
      "metadata": {
        "id": "rN1Q8weEE4Xr"
      },
      "source": [
        "### Control flow operations\n",
        "Tensorflow provide several operation that can be used to control the execution of operation and add conditional dependencies.\n",
        "\n",
        "ex - tf.identity, tf.tuple, tf.group, tf.cond and ..."
      ]
    },
    {
      "cell_type": "markdown",
      "metadata": {
        "id": "PjuHC1OIE62A"
      },
      "source": [
        "#### Identity\n",
        "Return a tensor with the same shape and contents as the input tensor or value."
      ]
    },
    {
      "cell_type": "code",
      "metadata": {
        "id": "yXMQOzKCE1HA",
        "outputId": "d8ae7bd2-01af-4374-f326-b58ad3f7ccc8",
        "colab": {
          "base_uri": "https://localhost:8080/"
        }
      },
      "source": [
        "tensor_identity = tf.identity(tensor_A1)\n",
        "print(tensor_identity)  "
      ],
      "execution_count": 12,
      "outputs": [
        {
          "output_type": "stream",
          "text": [
            "Tensor(\"Identity:0\", shape=(4,), dtype=int32)\n"
          ],
          "name": "stdout"
        }
      ]
    },
    {
      "cell_type": "markdown",
      "metadata": {
        "id": "ooQRiAQPE_r7"
      },
      "source": [
        "### Logical operations\n",
        "Tensorflow provide several operation that can be used to add logical operation on tensor.\n",
        "\n",
        "ex -  logical_and, logical_not, logical_or logical_xor..."
      ]
    },
    {
      "cell_type": "code",
      "metadata": {
        "id": "b03haoYsE84F"
      },
      "source": [
        "# Initialize two constants\n",
        "x  = tf.constant([False,False,True,True])\n",
        "y  = tf.constant([False,True,True,False])"
      ],
      "execution_count": 13,
      "outputs": []
    },
    {
      "cell_type": "markdown",
      "metadata": {
        "id": "0XYF-XyeFD1z"
      },
      "source": [
        "#### LogicalOr\n",
        "Returns the truth value of x OR y element-wise."
      ]
    },
    {
      "cell_type": "code",
      "metadata": {
        "id": "VZ3keXyWFBrC",
        "outputId": "2f0682ac-e04d-4ced-e284-396bdcb4b39b",
        "colab": {
          "base_uri": "https://localhost:8080/"
        }
      },
      "source": [
        "tensor_or = tf.math.logical_or(x,y)\n",
        "print(tensor_or)  "
      ],
      "execution_count": 14,
      "outputs": [
        {
          "output_type": "stream",
          "text": [
            "Tensor(\"LogicalOr:0\", shape=(4,), dtype=bool)\n"
          ],
          "name": "stdout"
        }
      ]
    },
    {
      "cell_type": "markdown",
      "metadata": {
        "id": "_DV1hmirFIgg"
      },
      "source": [
        "### Comparision operations\n",
        "Tensorflow provide several operation that can be used to add comparison operation on tensor.\n",
        "\n",
        "ex -  tf.equal, tf.not_equal,tf.less,tf.grater,..."
      ]
    },
    {
      "cell_type": "markdown",
      "metadata": {
        "id": "p7EztkTxFMj8"
      },
      "source": [
        "#### Equal\n",
        "Returns the truth value of (x == y) element-wise."
      ]
    },
    {
      "cell_type": "code",
      "metadata": {
        "id": "PYFx1u5_FGiz",
        "outputId": "6fe9dbf7-2a8b-4f7d-a1a2-d1837bf732e5",
        "colab": {
          "base_uri": "https://localhost:8080/"
        }
      },
      "source": [
        "tensor_equal = tf.equal(tensor_A1,tensor_A2)\n",
        "print(tensor_equal)  \n"
      ],
      "execution_count": 15,
      "outputs": [
        {
          "output_type": "stream",
          "text": [
            "Tensor(\"Equal:0\", shape=(4,), dtype=bool)\n"
          ],
          "name": "stdout"
        }
      ]
    },
    {
      "cell_type": "markdown",
      "metadata": {
        "id": "WthYBzFcFRlW"
      },
      "source": [
        "### Debugging operations\n",
        "Tensorflow provide several operation that can be used to validate values.\n",
        "\n",
        "ex -  tf.is_finite, tf.us_inf,tf.is_nana,..."
      ]
    },
    {
      "cell_type": "markdown",
      "metadata": {
        "id": "3lu4fI_xFT2H"
      },
      "source": [
        "#### isFinite\n",
        "Returns which elements of x are finite."
      ]
    },
    {
      "cell_type": "code",
      "metadata": {
        "id": "BG2RSX6lFPlq",
        "outputId": "8220601c-10a0-43ce-b77a-173cb87e5e47",
        "colab": {
          "base_uri": "https://localhost:8080/"
        }
      },
      "source": [
        "import numpy as np\n",
        "x = tf.constant([5.0, 4.8, 6.8, np.inf, np.nan])\n",
        "tensor_finite = tf.math.is_finite(x) \n",
        "print(tensor_finite)"
      ],
      "execution_count": 16,
      "outputs": [
        {
          "output_type": "stream",
          "text": [
            "Tensor(\"IsFinite:0\", shape=(5,), dtype=bool)\n"
          ],
          "name": "stdout"
        }
      ]
    },
    {
      "cell_type": "markdown",
      "metadata": {
        "id": "s80EcZB2Fack"
      },
      "source": [
        "Tensorflow operation is very useful in especially when we are working with tensor and matrix. [Click Here](https://www.tensorflow.org/lite/guide/op_select_allowlist) to visit list of all the operator in tensorflow.\n"
      ]
    },
    {
      "cell_type": "markdown",
      "metadata": {
        "id": "0byzpKaIFiUr"
      },
      "source": [
        "# **Tensorflow Variables**\n",
        "\n",
        "* A TensorFlow variable is the recommended way to represent shared, persistent state your program manipulates. "
      ]
    },
    {
      "cell_type": "code",
      "metadata": {
        "id": "xK8OVavvHTgH"
      },
      "source": [
        "import tensorflow as tf\n"
      ],
      "execution_count": 17,
      "outputs": []
    },
    {
      "cell_type": "code",
      "metadata": {
        "id": "ntsucDoXFlMJ",
        "outputId": "d3ba1ee0-b7a6-4b51-fc4b-c2333822675d",
        "colab": {
          "base_uri": "https://localhost:8080/"
        }
      },
      "source": [
        "# Create Tensor Variable\n",
        "tf.Variable(1)"
      ],
      "execution_count": 18,
      "outputs": [
        {
          "output_type": "execute_result",
          "data": {
            "text/plain": [
              "<tf.Variable 'Variable:0' shape=() dtype=int32>"
            ]
          },
          "metadata": {
            "tags": []
          },
          "execution_count": 18
        }
      ]
    },
    {
      "cell_type": "code",
      "metadata": {
        "id": "ZHhk2zgdFmn5",
        "outputId": "937bb0a1-dab7-4716-c4fd-dec50fb7239c",
        "colab": {
          "base_uri": "https://localhost:8080/"
        }
      },
      "source": [
        "# Create Tensor Variable Using Array\n",
        "var = tf.Variable([1,2,3,4])\n",
        "var"
      ],
      "execution_count": 19,
      "outputs": [
        {
          "output_type": "execute_result",
          "data": {
            "text/plain": [
              "<tf.Variable 'Variable_1:0' shape=(4,) dtype=int32>"
            ]
          },
          "metadata": {
            "tags": []
          },
          "execution_count": 19
        }
      ]
    },
    {
      "cell_type": "code",
      "metadata": {
        "id": "SzM3SP0nFpv9",
        "outputId": "b034ca06-565a-47f5-9fdc-7924ab5a2b57",
        "colab": {
          "base_uri": "https://localhost:8080/"
        }
      },
      "source": [
        "\n",
        "# Create Tensor Variable using String\n",
        "tf_str = tf.Variable(['T','E','S','F'])\n",
        "tf_str"
      ],
      "execution_count": 20,
      "outputs": [
        {
          "output_type": "execute_result",
          "data": {
            "text/plain": [
              "<tf.Variable 'Variable_2:0' shape=(4,) dtype=string>"
            ]
          },
          "metadata": {
            "tags": []
          },
          "execution_count": 20
        }
      ]
    },
    {
      "cell_type": "code",
      "metadata": {
        "id": "G-4odPzMFsyf",
        "outputId": "ea8798a2-e422-49c4-86d8-54389e52b3d7",
        "colab": {
          "base_uri": "https://localhost:8080/"
        }
      },
      "source": [
        "var = tf.Variable(\"String example\")\n",
        "print(var)"
      ],
      "execution_count": 21,
      "outputs": [
        {
          "output_type": "stream",
          "text": [
            "<tf.Variable 'Variable_3:0' shape=() dtype=string>\n"
          ],
          "name": "stdout"
        }
      ]
    },
    {
      "cell_type": "markdown",
      "metadata": {
        "id": "zJ2Q5c64FwVd"
      },
      "source": [
        "**Create Tensor Variable From Constant**"
      ]
    },
    {
      "cell_type": "code",
      "metadata": {
        "id": "INtq4__xFuKQ",
        "outputId": "62e97049-d0d1-4758-e370-663a556c915e",
        "colab": {
          "base_uri": "https://localhost:8080/"
        }
      },
      "source": [
        "tf_const = tf.constant([1,2,3,4])\n",
        "tf_const"
      ],
      "execution_count": 22,
      "outputs": [
        {
          "output_type": "execute_result",
          "data": {
            "text/plain": [
              "<tf.Tensor 'Const_5:0' shape=(4,) dtype=int32>"
            ]
          },
          "metadata": {
            "tags": []
          },
          "execution_count": 22
        }
      ]
    },
    {
      "cell_type": "code",
      "metadata": {
        "id": "AxULLCfrFxxo",
        "outputId": "4bb67dd0-0bd6-481b-bd7d-521c8ee00280",
        "colab": {
          "base_uri": "https://localhost:8080/"
        }
      },
      "source": [
        "tf.Variable(tf_const)\n"
      ],
      "execution_count": 23,
      "outputs": [
        {
          "output_type": "execute_result",
          "data": {
            "text/plain": [
              "<tf.Variable 'Variable_4:0' shape=(4,) dtype=int32>"
            ]
          },
          "metadata": {
            "tags": []
          },
          "execution_count": 23
        }
      ]
    },
    {
      "cell_type": "markdown",
      "metadata": {
        "id": "dyo_MwzVF3mK"
      },
      "source": [
        "**Create Tensor Variable With Different Shape**"
      ]
    },
    {
      "cell_type": "code",
      "metadata": {
        "id": "XC-8CywSF1dl",
        "outputId": "bb21f204-13a2-4b9c-eadf-46a666e1d033",
        "colab": {
          "base_uri": "https://localhost:8080/"
        }
      },
      "source": [
        "twoD_array = tf.Variable([[1,2],[3,4]], shape = (2,2), dtype=\"int32\")\n",
        "twoD_array"
      ],
      "execution_count": 24,
      "outputs": [
        {
          "output_type": "execute_result",
          "data": {
            "text/plain": [
              "<tf.Variable 'Variable_5:0' shape=(2, 2) dtype=int32>"
            ]
          },
          "metadata": {
            "tags": []
          },
          "execution_count": 24
        }
      ]
    },
    {
      "cell_type": "code",
      "metadata": {
        "id": "yFUN_LYTF544",
        "outputId": "f91bef96-452c-4e11-b10a-479089caa31f",
        "colab": {
          "base_uri": "https://localhost:8080/"
        }
      },
      "source": [
        "a = tf.Variable([1,2,3,4])\n",
        "tf.reshape(a, (2,2))"
      ],
      "execution_count": 25,
      "outputs": [
        {
          "output_type": "execute_result",
          "data": {
            "text/plain": [
              "<tf.Tensor 'Reshape:0' shape=(2, 2) dtype=int32>"
            ]
          },
          "metadata": {
            "tags": []
          },
          "execution_count": 25
        }
      ]
    },
    {
      "cell_type": "code",
      "metadata": {
        "id": "vr8BkA4aF7G4",
        "outputId": "05e8ea7d-ec05-4f1c-cff0-944103ea0567",
        "colab": {
          "base_uri": "https://localhost:8080/"
        }
      },
      "source": [
        "bool_variable = tf.Variable([False, False, False, True])\n",
        "bool_variable\n"
      ],
      "execution_count": 26,
      "outputs": [
        {
          "output_type": "execute_result",
          "data": {
            "text/plain": [
              "<tf.Variable 'Variable_7:0' shape=(4,) dtype=bool>"
            ]
          },
          "metadata": {
            "tags": []
          },
          "execution_count": 26
        }
      ]
    },
    {
      "cell_type": "code",
      "metadata": {
        "id": "1YYh_6dCF9BO",
        "outputId": "c4c8dac6-e69f-4078-d424-ad6031b1d106",
        "colab": {
          "base_uri": "https://localhost:8080/"
        }
      },
      "source": [
        "complex_variable = tf.Variable([5 + 4j, 6 + 1j])\n",
        "complex_variable"
      ],
      "execution_count": 27,
      "outputs": [
        {
          "output_type": "execute_result",
          "data": {
            "text/plain": [
              "<tf.Variable 'Variable_8:0' shape=(2,) dtype=complex128>"
            ]
          },
          "metadata": {
            "tags": []
          },
          "execution_count": 27
        }
      ]
    },
    {
      "cell_type": "markdown",
      "metadata": {
        "id": "1eHvHn5eGAfi"
      },
      "source": [
        "**Convert Variable into a Tensor**"
      ]
    },
    {
      "cell_type": "code",
      "metadata": {
        "id": "sslHMVgbF-VO"
      },
      "source": [
        "num = tf.Variable([1,2,3,4])"
      ],
      "execution_count": 28,
      "outputs": []
    },
    {
      "cell_type": "code",
      "metadata": {
        "id": "tc8teXdmGCL8",
        "outputId": "6790a9c4-a013-46de-f01f-0ca62c7e7a89",
        "colab": {
          "base_uri": "https://localhost:8080/"
        }
      },
      "source": [
        "tf.convert_to_tensor(num)"
      ],
      "execution_count": 29,
      "outputs": [
        {
          "output_type": "execute_result",
          "data": {
            "text/plain": [
              "<tf.Tensor 'ReadVariableOp:0' shape=(4,) dtype=int32>"
            ]
          },
          "metadata": {
            "tags": []
          },
          "execution_count": 29
        }
      ]
    },
    {
      "cell_type": "markdown",
      "metadata": {
        "id": "zLI2BKrAGFEc"
      },
      "source": [
        "**Variable Name**"
      ]
    },
    {
      "cell_type": "code",
      "metadata": {
        "id": "TE0p81t6GDSD",
        "outputId": "a816b549-2ec4-44fd-d37d-4ea24aa4a038",
        "colab": {
          "base_uri": "https://localhost:8080/"
        }
      },
      "source": [
        "a = tf.Variable([[1.0, 2.0],[1.0, 2.0]])\n",
        "\n",
        "# The name of the variable\n",
        "print(\"The name of the variable: \", a.name)"
      ],
      "execution_count": 30,
      "outputs": [
        {
          "output_type": "stream",
          "text": [
            "The name of the variable:  Variable_10:0\n"
          ],
          "name": "stdout"
        }
      ]
    },
    {
      "cell_type": "markdown",
      "metadata": {
        "id": "0NcBv_A8GIvN"
      },
      "source": [
        "**Variable Value**"
      ]
    },
    {
      "cell_type": "code",
      "metadata": {
        "id": "T9WccShKGGxN",
        "outputId": "8029b16a-5b6e-4744-bb73-82d7a91bb041",
        "colab": {
          "base_uri": "https://localhost:8080/"
        }
      },
      "source": [
        "a = tf.Variable([[1.0, 2.0],[1.0, 2.0]])\n",
        "\n",
        "# The values stored in the variables\n",
        "print(\"The values stored in the variables: \\n\", a.value())"
      ],
      "execution_count": 31,
      "outputs": [
        {
          "output_type": "stream",
          "text": [
            "The values stored in the variables: \n",
            " Tensor(\"ReadVariableOp_1:0\", shape=(2, 2), dtype=float32)\n"
          ],
          "name": "stdout"
        }
      ]
    },
    {
      "cell_type": "markdown",
      "metadata": {
        "id": "v9lVYqqCGMb9"
      },
      "source": [
        "**Dtype**"
      ]
    },
    {
      "cell_type": "code",
      "metadata": {
        "id": "0N8hjiZyGKfe",
        "outputId": "fdd62998-a58e-4485-c8da-372274adb1db",
        "colab": {
          "base_uri": "https://localhost:8080/"
        }
      },
      "source": [
        "# The selected datatype for the variable\n",
        "print(\"The selected datatype for the variable: \", a.dtype)"
      ],
      "execution_count": 32,
      "outputs": [
        {
          "output_type": "stream",
          "text": [
            "The selected datatype for the variable:  <dtype: 'float32'>\n"
          ],
          "name": "stdout"
        }
      ]
    },
    {
      "cell_type": "markdown",
      "metadata": {
        "id": "1iiyeM53GPmI"
      },
      "source": [
        "**Shape, Rank, and Size**"
      ]
    },
    {
      "cell_type": "code",
      "metadata": {
        "id": "csvWBpzVGN_Q",
        "outputId": "7f656973-0309-493a-904e-ed126ab91f7a",
        "colab": {
          "base_uri": "https://localhost:8080/"
        }
      },
      "source": [
        "\n",
        "a = tf.Variable([[1.0, 2.0],[1.0, 2.0]])\n",
        "\n",
        "# The shape of the variable\n",
        "print(\"The shape of the variable: \", a.shape)\n",
        "\n",
        "# The number of dimensions in the variable\n",
        "# print(\"The number of dimensions in the variable:\", tf.rank(a).numpy())\n",
        "\n",
        "# The number of elements in the variable\n",
        "# print(\"The number of dimensions in the variable:\", tf.size(a).numpy())"
      ],
      "execution_count": 33,
      "outputs": [
        {
          "output_type": "stream",
          "text": [
            "The shape of the variable:  (2, 2)\n"
          ],
          "name": "stdout"
        }
      ]
    },
    {
      "cell_type": "code",
      "metadata": {
        "id": "qYmcz-0jGTXT"
      },
      "source": [
        ""
      ],
      "execution_count": 33,
      "outputs": []
    }
  ]
}